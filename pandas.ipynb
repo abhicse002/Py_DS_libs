{
  "nbformat": 4,
  "nbformat_minor": 0,
  "metadata": {
    "colab": {
      "provenance": [],
      "authorship_tag": "ABX9TyN9eG0yIM7wMaAOy/pW5Bz9",
      "include_colab_link": true
    },
    "kernelspec": {
      "name": "python3",
      "display_name": "Python 3"
    },
    "language_info": {
      "name": "python"
    }
  },
  "cells": [
    {
      "cell_type": "markdown",
      "metadata": {
        "id": "view-in-github",
        "colab_type": "text"
      },
      "source": [
        "<a href=\"https://colab.research.google.com/github/abhicse002/Py_DS_libs/blob/main/pandas.ipynb\" target=\"_parent\"><img src=\"https://colab.research.google.com/assets/colab-badge.svg\" alt=\"Open In Colab\"/></a>"
      ]
    },
    {
      "cell_type": "markdown",
      "source": [
        "# How Panda Series & DataFrame differ\n",
        "1. Series is for 1D, homogenous data, single datatype\n",
        "2. Dataframe is for 2D, heterogenous data, each column different datatype\n",
        "3. Each Column is a Series\n",
        "4. Series created using pd.Series\n",
        "5. isna & isnull serves the same purpose\n"
      ],
      "metadata": {
        "id": "CtWEjYu8JWjy"
      }
    },
    {
      "cell_type": "code",
      "source": [
        "import pandas as pd\n",
        "\n",
        "# Create a DataFrame with custom column names\n",
        "df = pd.DataFrame(\n",
        "    [[10, 20, 30, 40, 50], [11, 22, 33, 44, 55],[111, 222, 333, 444, 555], [1111, 2222, 3333, 4444, 5555], [11111, 22222, 33333, 44444, 55555]],\n",
        "    columns=['A', 'B', 'C', 'D', 'E'],  # Column names\n",
        "    index=['A', 'B', 'C', 'D', 'E']  # Column names\n",
        ")\n",
        "df1 = pd.DataFrame(\n",
        "    [[10, 20, 30, 40, 50], [11, 22, 33, 44, 55],[111, 222, 333, 444, 555], [1111, 2222, 3333, 4444, 5555], [11111, 22222, 33333, 44444, 55555]],\n",
        "    # columns=[1,2,3,4,5],  # Column names\n",
        "    # index=[1,2,3,4,5]  # Column names\n",
        ")\n",
        "\n",
        "print(df)\n"
      ],
      "metadata": {
        "colab": {
          "base_uri": "https://localhost:8080/"
        },
        "id": "VxVIxvfxJmFV",
        "outputId": "f5cacef4-6bf5-4b0d-aa41-0a67f3626b5f"
      },
      "execution_count": 40,
      "outputs": [
        {
          "output_type": "stream",
          "name": "stdout",
          "text": [
            "       A      B      C      D      E\n",
            "A     10     20     30     40     50\n",
            "B     11     22     33     44     55\n",
            "C    111    222    333    444    555\n",
            "D   1111   2222   3333   4444   5555\n",
            "E  11111  22222  33333  44444  55555\n"
          ]
        }
      ]
    },
    {
      "cell_type": "markdown",
      "source": [
        "# How to fetch using Labels\n",
        "1. Indexing by Label helps is fetching all Rows but limited columns\n",
        "Fetches all the Rows but with specified Columns only\n",
        "2. loc used to fetching using Labelling\n",
        "3. iloc used to fetch using Indexing (integer positions or integer based indexing)"
      ],
      "metadata": {
        "id": "J5PPcn8kL70K"
      }
    },
    {
      "cell_type": "code",
      "source": [
        "print(df[['B', 'C']]) # Fetch only multi columns\n",
        "print(\"----\")\n",
        "print(df.loc[['A', 'B']])  # fetch only multi Rows\n",
        "print(\"----\")\n",
        "print(df.loc[['A', 'C'],['B', 'D']]) # Fetch multi rows & columns"
      ],
      "metadata": {
        "colab": {
          "base_uri": "https://localhost:8080/"
        },
        "id": "RMsZeD5mLtt-",
        "outputId": "00d7946b-66bb-4d43-95d3-0771d3c549e6"
      },
      "execution_count": 72,
      "outputs": [
        {
          "output_type": "stream",
          "name": "stdout",
          "text": [
            "       B      C\n",
            "A     20     30\n",
            "B     22     33\n",
            "C    222    333\n",
            "D   2222   3333\n",
            "E  22222  33333\n",
            "----\n",
            "    A   B   C   D   E\n",
            "A  10  20  30  40  50\n",
            "B  11  22  33  44  55\n",
            "----\n",
            "     B    D\n",
            "A   20   40\n",
            "C  222  444\n"
          ]
        }
      ]
    },
    {
      "cell_type": "code",
      "source": [
        "print(df1.iloc[2]) # fetch third row and presents it in column format, in a Series\n",
        "print(\"----\")\n",
        "print(df1.iloc[[1, 3], [1, 3]]) # fetch group of Rows & Columns using Integer Positioning Indexing\n",
        "print(\"----\")\n",
        "print(df1.iloc[2, 3]) # from 3rd Row, fetch 4th Column, index starts from Zero"
      ],
      "metadata": {
        "colab": {
          "base_uri": "https://localhost:8080/"
        },
        "id": "TDZ7_tJfa3l1",
        "outputId": "94fcc797-40fa-492d-ecbd-44be3b4c4b29"
      },
      "execution_count": 73,
      "outputs": [
        {
          "output_type": "stream",
          "name": "stdout",
          "text": [
            "0    111\n",
            "1    222\n",
            "2    333\n",
            "3    444\n",
            "4    555\n",
            "Name: 2, dtype: int64\n",
            "----\n",
            "      1     3\n",
            "1    22    44\n",
            "3  2222  4444\n",
            "----\n",
            "444\n"
          ]
        }
      ]
    },
    {
      "cell_type": "markdown",
      "source": [
        "# How to fetch using Indexing\n",
        "Indexing by Integer helps in fetching all Columns with limited Rows\n",
        "Fethces all the Columns with with Specified Rows only"
      ],
      "metadata": {
        "id": "Qctltof3MB28"
      }
    },
    {
      "cell_type": "code",
      "source": [
        "df[1:3]"
      ],
      "metadata": {
        "colab": {
          "base_uri": "https://localhost:8080/",
          "height": 112
        },
        "id": "AhqT_dCALzlM",
        "outputId": "39154ceb-e339-4a8f-c736-601331667e79"
      },
      "execution_count": 16,
      "outputs": [
        {
          "output_type": "execute_result",
          "data": {
            "text/plain": [
              "     A    B    C    D    E\n",
              "1   11   22   33   44   55\n",
              "2  111  222  333  444  555"
            ],
            "text/html": [
              "\n",
              "  <div id=\"df-281d4cfe-e40a-4731-bbbf-9ed9ec509db5\" class=\"colab-df-container\">\n",
              "    <div>\n",
              "<style scoped>\n",
              "    .dataframe tbody tr th:only-of-type {\n",
              "        vertical-align: middle;\n",
              "    }\n",
              "\n",
              "    .dataframe tbody tr th {\n",
              "        vertical-align: top;\n",
              "    }\n",
              "\n",
              "    .dataframe thead th {\n",
              "        text-align: right;\n",
              "    }\n",
              "</style>\n",
              "<table border=\"1\" class=\"dataframe\">\n",
              "  <thead>\n",
              "    <tr style=\"text-align: right;\">\n",
              "      <th></th>\n",
              "      <th>A</th>\n",
              "      <th>B</th>\n",
              "      <th>C</th>\n",
              "      <th>D</th>\n",
              "      <th>E</th>\n",
              "    </tr>\n",
              "  </thead>\n",
              "  <tbody>\n",
              "    <tr>\n",
              "      <th>1</th>\n",
              "      <td>11</td>\n",
              "      <td>22</td>\n",
              "      <td>33</td>\n",
              "      <td>44</td>\n",
              "      <td>55</td>\n",
              "    </tr>\n",
              "    <tr>\n",
              "      <th>2</th>\n",
              "      <td>111</td>\n",
              "      <td>222</td>\n",
              "      <td>333</td>\n",
              "      <td>444</td>\n",
              "      <td>555</td>\n",
              "    </tr>\n",
              "  </tbody>\n",
              "</table>\n",
              "</div>\n",
              "    <div class=\"colab-df-buttons\">\n",
              "\n",
              "  <div class=\"colab-df-container\">\n",
              "    <button class=\"colab-df-convert\" onclick=\"convertToInteractive('df-281d4cfe-e40a-4731-bbbf-9ed9ec509db5')\"\n",
              "            title=\"Convert this dataframe to an interactive table.\"\n",
              "            style=\"display:none;\">\n",
              "\n",
              "  <svg xmlns=\"http://www.w3.org/2000/svg\" height=\"24px\" viewBox=\"0 -960 960 960\">\n",
              "    <path d=\"M120-120v-720h720v720H120Zm60-500h600v-160H180v160Zm220 220h160v-160H400v160Zm0 220h160v-160H400v160ZM180-400h160v-160H180v160Zm440 0h160v-160H620v160ZM180-180h160v-160H180v160Zm440 0h160v-160H620v160Z\"/>\n",
              "  </svg>\n",
              "    </button>\n",
              "\n",
              "  <style>\n",
              "    .colab-df-container {\n",
              "      display:flex;\n",
              "      gap: 12px;\n",
              "    }\n",
              "\n",
              "    .colab-df-convert {\n",
              "      background-color: #E8F0FE;\n",
              "      border: none;\n",
              "      border-radius: 50%;\n",
              "      cursor: pointer;\n",
              "      display: none;\n",
              "      fill: #1967D2;\n",
              "      height: 32px;\n",
              "      padding: 0 0 0 0;\n",
              "      width: 32px;\n",
              "    }\n",
              "\n",
              "    .colab-df-convert:hover {\n",
              "      background-color: #E2EBFA;\n",
              "      box-shadow: 0px 1px 2px rgba(60, 64, 67, 0.3), 0px 1px 3px 1px rgba(60, 64, 67, 0.15);\n",
              "      fill: #174EA6;\n",
              "    }\n",
              "\n",
              "    .colab-df-buttons div {\n",
              "      margin-bottom: 4px;\n",
              "    }\n",
              "\n",
              "    [theme=dark] .colab-df-convert {\n",
              "      background-color: #3B4455;\n",
              "      fill: #D2E3FC;\n",
              "    }\n",
              "\n",
              "    [theme=dark] .colab-df-convert:hover {\n",
              "      background-color: #434B5C;\n",
              "      box-shadow: 0px 1px 3px 1px rgba(0, 0, 0, 0.15);\n",
              "      filter: drop-shadow(0px 1px 2px rgba(0, 0, 0, 0.3));\n",
              "      fill: #FFFFFF;\n",
              "    }\n",
              "  </style>\n",
              "\n",
              "    <script>\n",
              "      const buttonEl =\n",
              "        document.querySelector('#df-281d4cfe-e40a-4731-bbbf-9ed9ec509db5 button.colab-df-convert');\n",
              "      buttonEl.style.display =\n",
              "        google.colab.kernel.accessAllowed ? 'block' : 'none';\n",
              "\n",
              "      async function convertToInteractive(key) {\n",
              "        const element = document.querySelector('#df-281d4cfe-e40a-4731-bbbf-9ed9ec509db5');\n",
              "        const dataTable =\n",
              "          await google.colab.kernel.invokeFunction('convertToInteractive',\n",
              "                                                    [key], {});\n",
              "        if (!dataTable) return;\n",
              "\n",
              "        const docLinkHtml = 'Like what you see? Visit the ' +\n",
              "          '<a target=\"_blank\" href=https://colab.research.google.com/notebooks/data_table.ipynb>data table notebook</a>'\n",
              "          + ' to learn more about interactive tables.';\n",
              "        element.innerHTML = '';\n",
              "        dataTable['output_type'] = 'display_data';\n",
              "        await google.colab.output.renderOutput(dataTable, element);\n",
              "        const docLink = document.createElement('div');\n",
              "        docLink.innerHTML = docLinkHtml;\n",
              "        element.appendChild(docLink);\n",
              "      }\n",
              "    </script>\n",
              "  </div>\n",
              "\n",
              "\n",
              "<div id=\"df-7db9175a-e61e-45d5-830b-94f4b1ded571\">\n",
              "  <button class=\"colab-df-quickchart\" onclick=\"quickchart('df-7db9175a-e61e-45d5-830b-94f4b1ded571')\"\n",
              "            title=\"Suggest charts\"\n",
              "            style=\"display:none;\">\n",
              "\n",
              "<svg xmlns=\"http://www.w3.org/2000/svg\" height=\"24px\"viewBox=\"0 0 24 24\"\n",
              "     width=\"24px\">\n",
              "    <g>\n",
              "        <path d=\"M19 3H5c-1.1 0-2 .9-2 2v14c0 1.1.9 2 2 2h14c1.1 0 2-.9 2-2V5c0-1.1-.9-2-2-2zM9 17H7v-7h2v7zm4 0h-2V7h2v10zm4 0h-2v-4h2v4z\"/>\n",
              "    </g>\n",
              "</svg>\n",
              "  </button>\n",
              "\n",
              "<style>\n",
              "  .colab-df-quickchart {\n",
              "      --bg-color: #E8F0FE;\n",
              "      --fill-color: #1967D2;\n",
              "      --hover-bg-color: #E2EBFA;\n",
              "      --hover-fill-color: #174EA6;\n",
              "      --disabled-fill-color: #AAA;\n",
              "      --disabled-bg-color: #DDD;\n",
              "  }\n",
              "\n",
              "  [theme=dark] .colab-df-quickchart {\n",
              "      --bg-color: #3B4455;\n",
              "      --fill-color: #D2E3FC;\n",
              "      --hover-bg-color: #434B5C;\n",
              "      --hover-fill-color: #FFFFFF;\n",
              "      --disabled-bg-color: #3B4455;\n",
              "      --disabled-fill-color: #666;\n",
              "  }\n",
              "\n",
              "  .colab-df-quickchart {\n",
              "    background-color: var(--bg-color);\n",
              "    border: none;\n",
              "    border-radius: 50%;\n",
              "    cursor: pointer;\n",
              "    display: none;\n",
              "    fill: var(--fill-color);\n",
              "    height: 32px;\n",
              "    padding: 0;\n",
              "    width: 32px;\n",
              "  }\n",
              "\n",
              "  .colab-df-quickchart:hover {\n",
              "    background-color: var(--hover-bg-color);\n",
              "    box-shadow: 0 1px 2px rgba(60, 64, 67, 0.3), 0 1px 3px 1px rgba(60, 64, 67, 0.15);\n",
              "    fill: var(--button-hover-fill-color);\n",
              "  }\n",
              "\n",
              "  .colab-df-quickchart-complete:disabled,\n",
              "  .colab-df-quickchart-complete:disabled:hover {\n",
              "    background-color: var(--disabled-bg-color);\n",
              "    fill: var(--disabled-fill-color);\n",
              "    box-shadow: none;\n",
              "  }\n",
              "\n",
              "  .colab-df-spinner {\n",
              "    border: 2px solid var(--fill-color);\n",
              "    border-color: transparent;\n",
              "    border-bottom-color: var(--fill-color);\n",
              "    animation:\n",
              "      spin 1s steps(1) infinite;\n",
              "  }\n",
              "\n",
              "  @keyframes spin {\n",
              "    0% {\n",
              "      border-color: transparent;\n",
              "      border-bottom-color: var(--fill-color);\n",
              "      border-left-color: var(--fill-color);\n",
              "    }\n",
              "    20% {\n",
              "      border-color: transparent;\n",
              "      border-left-color: var(--fill-color);\n",
              "      border-top-color: var(--fill-color);\n",
              "    }\n",
              "    30% {\n",
              "      border-color: transparent;\n",
              "      border-left-color: var(--fill-color);\n",
              "      border-top-color: var(--fill-color);\n",
              "      border-right-color: var(--fill-color);\n",
              "    }\n",
              "    40% {\n",
              "      border-color: transparent;\n",
              "      border-right-color: var(--fill-color);\n",
              "      border-top-color: var(--fill-color);\n",
              "    }\n",
              "    60% {\n",
              "      border-color: transparent;\n",
              "      border-right-color: var(--fill-color);\n",
              "    }\n",
              "    80% {\n",
              "      border-color: transparent;\n",
              "      border-right-color: var(--fill-color);\n",
              "      border-bottom-color: var(--fill-color);\n",
              "    }\n",
              "    90% {\n",
              "      border-color: transparent;\n",
              "      border-bottom-color: var(--fill-color);\n",
              "    }\n",
              "  }\n",
              "</style>\n",
              "\n",
              "  <script>\n",
              "    async function quickchart(key) {\n",
              "      const quickchartButtonEl =\n",
              "        document.querySelector('#' + key + ' button');\n",
              "      quickchartButtonEl.disabled = true;  // To prevent multiple clicks.\n",
              "      quickchartButtonEl.classList.add('colab-df-spinner');\n",
              "      try {\n",
              "        const charts = await google.colab.kernel.invokeFunction(\n",
              "            'suggestCharts', [key], {});\n",
              "      } catch (error) {\n",
              "        console.error('Error during call to suggestCharts:', error);\n",
              "      }\n",
              "      quickchartButtonEl.classList.remove('colab-df-spinner');\n",
              "      quickchartButtonEl.classList.add('colab-df-quickchart-complete');\n",
              "    }\n",
              "    (() => {\n",
              "      let quickchartButtonEl =\n",
              "        document.querySelector('#df-7db9175a-e61e-45d5-830b-94f4b1ded571 button');\n",
              "      quickchartButtonEl.style.display =\n",
              "        google.colab.kernel.accessAllowed ? 'block' : 'none';\n",
              "    })();\n",
              "  </script>\n",
              "</div>\n",
              "\n",
              "    </div>\n",
              "  </div>\n"
            ],
            "application/vnd.google.colaboratory.intrinsic+json": {
              "type": "dataframe",
              "summary": "{\n  \"name\": \"df[1:3]\",\n  \"rows\": 2,\n  \"fields\": [\n    {\n      \"column\": \"A\",\n      \"properties\": {\n        \"dtype\": \"number\",\n        \"std\": 70,\n        \"min\": 11,\n        \"max\": 111,\n        \"num_unique_values\": 2,\n        \"samples\": [\n          111,\n          11\n        ],\n        \"semantic_type\": \"\",\n        \"description\": \"\"\n      }\n    },\n    {\n      \"column\": \"B\",\n      \"properties\": {\n        \"dtype\": \"number\",\n        \"std\": 141,\n        \"min\": 22,\n        \"max\": 222,\n        \"num_unique_values\": 2,\n        \"samples\": [\n          222,\n          22\n        ],\n        \"semantic_type\": \"\",\n        \"description\": \"\"\n      }\n    },\n    {\n      \"column\": \"C\",\n      \"properties\": {\n        \"dtype\": \"number\",\n        \"std\": 212,\n        \"min\": 33,\n        \"max\": 333,\n        \"num_unique_values\": 2,\n        \"samples\": [\n          333,\n          33\n        ],\n        \"semantic_type\": \"\",\n        \"description\": \"\"\n      }\n    },\n    {\n      \"column\": \"D\",\n      \"properties\": {\n        \"dtype\": \"number\",\n        \"std\": 282,\n        \"min\": 44,\n        \"max\": 444,\n        \"num_unique_values\": 2,\n        \"samples\": [\n          444,\n          44\n        ],\n        \"semantic_type\": \"\",\n        \"description\": \"\"\n      }\n    },\n    {\n      \"column\": \"E\",\n      \"properties\": {\n        \"dtype\": \"number\",\n        \"std\": 353,\n        \"min\": 55,\n        \"max\": 555,\n        \"num_unique_values\": 2,\n        \"samples\": [\n          555,\n          55\n        ],\n        \"semantic_type\": \"\",\n        \"description\": \"\"\n      }\n    }\n  ]\n}"
            }
          },
          "metadata": {},
          "execution_count": 16
        }
      ]
    },
    {
      "cell_type": "code",
      "source": [
        "#  shape, size, dtype used for Series\n",
        "df = pd.DataFrame(\n",
        "    [[10, 20, 30, 40, 50], [11, 22, 33, 44, 55],[111, 222, 333, 444, 555], [1111, 2222, 3333, 4444, 5555]],\n",
        "    columns=['A', 'B', 'C', 'D', 'E']  # Column names\n",
        ")\n",
        "print(df.shape) # Number of Rows & Columns\n",
        "print(df.size) # Number of elements\n",
        "print(df.index) # gives Index range\n",
        "print(df.values) # gives only values in Rows & Columns\n",
        "\n",
        "print(df['A'].name) # gives only values in Rows & Columns\n",
        "print(df['A'].dtype) # applied on Series"
      ],
      "metadata": {
        "colab": {
          "base_uri": "https://localhost:8080/"
        },
        "id": "L9Bs86MGL1c1",
        "outputId": "5059e647-8b08-44aa-b291-35e3644293ee"
      },
      "execution_count": 24,
      "outputs": [
        {
          "output_type": "stream",
          "name": "stdout",
          "text": [
            "(4, 5)\n",
            "20\n",
            "RangeIndex(start=0, stop=4, step=1)\n",
            "[[  10   20   30   40   50]\n",
            " [  11   22   33   44   55]\n",
            " [ 111  222  333  444  555]\n",
            " [1111 2222 3333 4444 5555]]\n",
            "A\n",
            "int64\n"
          ]
        }
      ]
    },
    {
      "cell_type": "markdown",
      "source": [
        "# How lic & iloc differs\n",
        "1. loc is slower\n",
        "2. iloc is faster since position based searching"
      ],
      "metadata": {
        "id": "zLiZpkVcXQvv"
      }
    },
    {
      "cell_type": "markdown",
      "source": [
        "# How to convert a categorical Columns into a Indicator Variables\n",
        "1. using get_dummies, knonw as one hot Encoding\n",
        "2. Creates a new dataframe with columns for each value of categorical variables"
      ],
      "metadata": {
        "id": "Dsw26snrghIU"
      }
    },
    {
      "cell_type": "code",
      "source": [
        "import pandas as pd\n",
        "\n",
        "# Create a sample DataFrame\n",
        "data = {\n",
        "    'Gender': ['M', 'F', 'M', 'F', 'F'],\n",
        "    'Age': [30, 40, 32, 25, 41]\n",
        "}\n",
        "\n",
        "df = pd.DataFrame(data)\n",
        "\n",
        "# Display the original DataFrame\n",
        "print(\"Original DataFrame:\")\n",
        "print(df)\n",
        "\n",
        "# Use get_dummies to convert 'City' into dummy variables\n",
        "df_dummies = pd.get_dummies(df, columns=['Gender'], drop_first=False, prefix='G')\n",
        "\n",
        "# Display the DataFrame with dummy variables\n",
        "print(\"\\nDataFrame with Dummy Variables:\")\n",
        "print(df_dummies)\n"
      ],
      "metadata": {
        "colab": {
          "base_uri": "https://localhost:8080/"
        },
        "id": "_mbFPZ0uPZqK",
        "outputId": "3ac491be-260e-4da1-ec60-27087ad4b6ea"
      },
      "execution_count": 78,
      "outputs": [
        {
          "output_type": "stream",
          "name": "stdout",
          "text": [
            "Original DataFrame:\n",
            "  Gender  Age\n",
            "0      M   30\n",
            "1      F   40\n",
            "2      M   32\n",
            "3      F   25\n",
            "4      F   41\n",
            "\n",
            "DataFrame with Dummy Variables:\n",
            "   Age    G_F    G_M\n",
            "0   30  False   True\n",
            "1   40   True  False\n",
            "2   32  False   True\n",
            "3   25   True  False\n",
            "4   41   True  False\n"
          ]
        }
      ]
    },
    {
      "cell_type": "markdown",
      "source": [
        "# How iterrows()\t& nditer diff\n",
        "1. iterrows used in pandas\n",
        "2. nditer used in numpy\n",
        "\n",
        "1. iterows used for row wise iteration, which gives index & Series item\n",
        "2. nditer iterates thru each & every item"
      ],
      "metadata": {
        "id": "465U_s5mifiO"
      }
    },
    {
      "cell_type": "code",
      "source": [],
      "metadata": {
        "id": "aFtgJ3LthsQG"
      },
      "execution_count": null,
      "outputs": []
    },
    {
      "cell_type": "code",
      "source": [],
      "metadata": {
        "id": "KQRwPD4KheGY"
      },
      "execution_count": null,
      "outputs": []
    }
  ]
}