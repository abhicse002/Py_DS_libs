{
  "nbformat": 4,
  "nbformat_minor": 0,
  "metadata": {
    "colab": {
      "provenance": [],
      "authorship_tag": "ABX9TyPmgN0ZSDJCow17xj6hkRdK",
      "include_colab_link": true
    },
    "kernelspec": {
      "name": "python3",
      "display_name": "Python 3"
    },
    "language_info": {
      "name": "python"
    }
  },
  "cells": [
    {
      "cell_type": "markdown",
      "metadata": {
        "id": "view-in-github",
        "colab_type": "text"
      },
      "source": [
        "<a href=\"https://colab.research.google.com/github/abhicse002/Py_DS_libs/blob/main/numpy.ipynb\" target=\"_parent\"><img src=\"https://colab.research.google.com/assets/colab-badge.svg\" alt=\"Open In Colab\"/></a>"
      ]
    },
    {
      "cell_type": "markdown",
      "source": [
        "# How to define an Numpy Array"
      ],
      "metadata": {
        "id": "THSglxZeQV7d"
      }
    },
    {
      "cell_type": "code",
      "source": [
        "import numpy as np\n",
        "\n",
        "list1 = [[1,2], [2,3], [4,6]]\n",
        "nump_arr = np.array(list1)\n",
        "print(nump_arr)"
      ],
      "metadata": {
        "colab": {
          "base_uri": "https://localhost:8080/"
        },
        "id": "ZDACJ0cuQXnK",
        "outputId": "c43b1c05-ce0c-42c3-fca9-d1cb9aad3dbd"
      },
      "execution_count": 1,
      "outputs": [
        {
          "output_type": "stream",
          "name": "stdout",
          "text": [
            "[[1 2]\n",
            " [2 3]\n",
            " [4 6]]\n"
          ]
        }
      ]
    },
    {
      "cell_type": "markdown",
      "source": [
        "# How to Check length, size, datatype and its behavior of len in diff dimension"
      ],
      "metadata": {
        "id": "Y48NXf4-nlPp"
      }
    },
    {
      "cell_type": "code",
      "source": [
        "l1 = [[[1,2,3,4,5],[1,2,3,4.9,5]], [[1,2,3,4,5],[1,2,3,4,5]], [[1,2,3,4,5],[1,2,3,4,5]]]\n",
        "l1 = np.array(l1)\n",
        "print(l1.size) # Gives no. of elements in an Array irrespective of Dimension\n",
        "print(len(l1)) # Gives the no of elements of 1D Array, no of Rows in 2D array, no of Layers in 3D array\n",
        "print(l1.dtype)"
      ],
      "metadata": {
        "colab": {
          "base_uri": "https://localhost:8080/"
        },
        "id": "xqz_FlXTnkSn",
        "outputId": "8fb2b790-7788-4efd-f2ac-1686eba2bb00"
      },
      "execution_count": null,
      "outputs": [
        {
          "output_type": "stream",
          "name": "stdout",
          "text": [
            "30\n",
            "3\n",
            "float64\n"
          ]
        }
      ]
    },
    {
      "cell_type": "code",
      "source": [
        "tuple1 = ((1,2), (2,3), (4,9))\n",
        "nump_arr = np.array(tuple1)\n",
        "print(nump_arr)"
      ],
      "metadata": {
        "colab": {
          "base_uri": "https://localhost:8080/"
        },
        "id": "L2ZRH5jfliLm",
        "outputId": "15375f40-6353-4b2c-eb52-e4c4211bac2f"
      },
      "execution_count": null,
      "outputs": [
        {
          "output_type": "stream",
          "name": "stdout",
          "text": [
            "[[1 2]\n",
            " [2 3]\n",
            " [4 9]]\n"
          ]
        }
      ]
    },
    {
      "cell_type": "markdown",
      "source": [
        "# How to reshape an Array"
      ],
      "metadata": {
        "id": "a2aEAiIvSBFF"
      }
    },
    {
      "cell_type": "code",
      "source": [
        "x = np.arange(0, 16)\n",
        "print(x)\n",
        "\n",
        "y = x.reshape(2, 8)\n",
        "print(y)\n",
        "\n",
        "print(np.shape(y))\n",
        "\n",
        "y.shape = (4, 4)\n",
        "print(y)"
      ],
      "metadata": {
        "colab": {
          "base_uri": "https://localhost:8080/"
        },
        "id": "i7B7UmCRSEmV",
        "outputId": "c2d175df-4082-4dbd-e2cb-46aa36c2805e"
      },
      "execution_count": null,
      "outputs": [
        {
          "output_type": "stream",
          "name": "stdout",
          "text": [
            "[ 0  1  2  3  4  5  6  7  8  9 10 11 12 13 14 15]\n",
            "[[ 0  1  2  3  4  5  6  7]\n",
            " [ 8  9 10 11 12 13 14 15]]\n",
            "(2, 8)\n",
            "[[ 0  1  2  3]\n",
            " [ 4  5  6  7]\n",
            " [ 8  9 10 11]\n",
            " [12 13 14 15]]\n"
          ]
        }
      ]
    },
    {
      "cell_type": "markdown",
      "source": [
        "# How to create 3D Array\n",
        "*   shape = (Layers, rows, columns)\n",
        "*   Repeat 2D array\n",
        "* Value error will arise if incorrect dimension for incorrect data\n",
        "\n",
        "\n",
        "\n",
        "\n"
      ],
      "metadata": {
        "id": "ue5ZCbpNUex5"
      }
    },
    {
      "cell_type": "code",
      "source": [
        "# create an 3D array of 3 layers, 4, rows, 3 columns\n",
        "# 3 * 4 * 3\n",
        "x = np.arange(0,36)\n",
        "\n",
        "x.shape = (3, 4, 3)\n",
        "print(x)"
      ],
      "metadata": {
        "colab": {
          "base_uri": "https://localhost:8080/"
        },
        "id": "xWtGlGDdUtYY",
        "outputId": "2331512b-4e57-416a-c4ea-5217515162b0"
      },
      "execution_count": null,
      "outputs": [
        {
          "output_type": "stream",
          "name": "stdout",
          "text": [
            "[[[ 0  1  2]\n",
            "  [ 3  4  5]\n",
            "  [ 6  7  8]\n",
            "  [ 9 10 11]]\n",
            "\n",
            " [[12 13 14]\n",
            "  [15 16 17]\n",
            "  [18 19 20]\n",
            "  [21 22 23]]\n",
            "\n",
            " [[24 25 26]\n",
            "  [27 28 29]\n",
            "  [30 31 32]\n",
            "  [33 34 35]]]\n"
          ]
        }
      ]
    },
    {
      "cell_type": "code",
      "source": [
        "oned_list = [1,2,3]\n",
        "twod_list = [[1,2,3], [1,2,3]]\n",
        "threed_list = [[[1,2,3], [1,2,3]], [[1,2,3], [1,2,3]]]\n",
        "\n",
        "print(threed_list)\n",
        "print(np.shape(threed_list))\n",
        "\n"
      ],
      "metadata": {
        "colab": {
          "base_uri": "https://localhost:8080/"
        },
        "id": "UZGMN-l4W4qj",
        "outputId": "a23e57a3-e72f-429c-881e-65624f47fe32"
      },
      "execution_count": null,
      "outputs": [
        {
          "output_type": "stream",
          "name": "stdout",
          "text": [
            "[[[1, 2, 3], [1, 2, 3]], [[1, 2, 3], [1, 2, 3]]]\n",
            "(2, 2, 3)\n"
          ]
        }
      ]
    },
    {
      "cell_type": "markdown",
      "source": [
        "# How to create easy Array functions\n",
        "1. Ones\n",
        "2. Zeros\n",
        "3. Identity Matrix\n"
      ],
      "metadata": {
        "id": "R4F7H4nsYTkr"
      }
    },
    {
      "cell_type": "code",
      "source": [
        "print(np.ones((3,2)))\n",
        "print(np.zeros((3,2)))\n",
        "print(np.eye((3)))"
      ],
      "metadata": {
        "colab": {
          "base_uri": "https://localhost:8080/"
        },
        "id": "brafPOW2YS5y",
        "outputId": "eed83bab-0cdf-4dec-9adf-fe5c3c357b3f"
      },
      "execution_count": 8,
      "outputs": [
        {
          "output_type": "stream",
          "name": "stdout",
          "text": [
            "[[1. 1.]\n",
            " [1. 1.]\n",
            " [1. 1.]]\n",
            "[[0. 0.]\n",
            " [0. 0.]\n",
            " [0. 0.]]\n",
            "[[1. 0. 0.]\n",
            " [0. 1. 0.]\n",
            " [0. 0. 1.]]\n"
          ]
        }
      ]
    },
    {
      "cell_type": "markdown",
      "source": [
        "# How to create Mathematical Ops (to get Dot Product of a Matrix)"
      ],
      "metadata": {
        "id": "Q4SM6idRY2t0"
      }
    },
    {
      "cell_type": "code",
      "source": [
        "num1 = np.array([1,2,3])\n",
        "num2 = np.array([4,5,6])\n",
        "print(np.dot(num1, num2))"
      ],
      "metadata": {
        "colab": {
          "base_uri": "https://localhost:8080/"
        },
        "id": "i7lnZkgZY6b3",
        "outputId": "97be0e88-5318-42a4-d332-a7eedfd25ee5"
      },
      "execution_count": 11,
      "outputs": [
        {
          "output_type": "stream",
          "name": "stdout",
          "text": [
            "32\n"
          ]
        }
      ]
    },
    {
      "cell_type": "markdown",
      "source": [
        "# How numpy is good over traditionla python loops & fucn\n",
        "1. Memory efficient\n",
        "2. Speed is good, since it levarages C under the hood.\n",
        "3. Easy to use, since no need to use Looping\n",
        "4. Broadcasting\n"
      ],
      "metadata": {
        "id": "AmcXT5fCaMaO"
      }
    },
    {
      "cell_type": "markdown",
      "source": [
        "# How to Index & slice np 1D Array"
      ],
      "metadata": {
        "id": "gdFZ2oA6ZVy_"
      }
    },
    {
      "cell_type": "code",
      "source": [
        "x = np.arange(0, 16)\n",
        "# print(x[0:len(x): 2])\n",
        "\n",
        "# reverse Indexing\n",
        "print(x[-5: 2: -1])\n",
        "print(x[-5: -7: -1])\n",
        "print(x[-5: 0: -1])\n",
        "print(x[: -3: 1])\n",
        "# print(x[::])\n",
        "\n",
        "\n",
        "\n",
        "\n"
      ],
      "metadata": {
        "colab": {
          "base_uri": "https://localhost:8080/"
        },
        "id": "loRaYhINZbid",
        "outputId": "3e3ff939-c643-44ae-8ff1-9c640d5da456"
      },
      "execution_count": null,
      "outputs": [
        {
          "output_type": "stream",
          "name": "stdout",
          "text": [
            "[11 10  9  8  7  6  5  4  3]\n",
            "[11 10]\n",
            "[11 10  9  8  7  6  5  4  3  2  1]\n",
            "[ 0  1  2  3  4  5  6  7  8  9 10 11 12]\n"
          ]
        }
      ]
    },
    {
      "cell_type": "markdown",
      "source": [
        "# How to Index np 2D Array"
      ],
      "metadata": {
        "id": "Exju6j1Cb9k1"
      }
    },
    {
      "cell_type": "code",
      "source": [
        "x = np.arange(0, 16)\n",
        "x.shape = (4, 4)\n",
        "print(x)"
      ],
      "metadata": {
        "colab": {
          "base_uri": "https://localhost:8080/"
        },
        "id": "60EEiz7vb_lG",
        "outputId": "e42f3b07-0d53-4d3d-82bd-04e82485a942"
      },
      "execution_count": null,
      "outputs": [
        {
          "output_type": "stream",
          "name": "stdout",
          "text": [
            "[[ 0  1  2  3]\n",
            " [ 4  5  6  7]\n",
            " [ 8  9 10 11]\n",
            " [12 13 14 15]]\n"
          ]
        }
      ]
    },
    {
      "cell_type": "code",
      "source": [
        "x[-1]\n",
        "x[1][1]\n",
        "x[1][-1]\n",
        "x[2][-1]"
      ],
      "metadata": {
        "colab": {
          "base_uri": "https://localhost:8080/"
        },
        "id": "GC-MnLOncYmb",
        "outputId": "9d0eceee-3f17-453e-de0b-5ccb6ef29b35"
      },
      "execution_count": null,
      "outputs": [
        {
          "output_type": "execute_result",
          "data": {
            "text/plain": [
              "11"
            ]
          },
          "metadata": {},
          "execution_count": 52
        }
      ]
    },
    {
      "cell_type": "code",
      "source": [
        "len(x) # when applied on 2D array returns number of Rows"
      ],
      "metadata": {
        "colab": {
          "base_uri": "https://localhost:8080/"
        },
        "id": "xoBO6OOmceOy",
        "outputId": "c1d62ba1-daeb-4846-9f91-3e6f3a521f46"
      },
      "execution_count": null,
      "outputs": [
        {
          "output_type": "execute_result",
          "data": {
            "text/plain": [
              "4"
            ]
          },
          "metadata": {},
          "execution_count": 54
        }
      ]
    },
    {
      "cell_type": "markdown",
      "source": [
        "# How to Slice 2D & REVERSE 2D Matrix`"
      ],
      "metadata": {
        "id": "v72E9AeDeK0C"
      }
    },
    {
      "cell_type": "code",
      "source": [
        "x = np.arange(0, 16)\n",
        "x.shape = (4, 4)\n",
        "# print(x)\n",
        "print(x[0:4:2,0:4:2])\n",
        "print(x[::-1])  # reverses ROW\n",
        "print(x[::-1, ::-1])  # reverses ROW & COLUMN"
      ],
      "metadata": {
        "colab": {
          "base_uri": "https://localhost:8080/"
        },
        "id": "kDlKPCSqckJq",
        "outputId": "da05f675-5fcc-4677-b201-79221ce0e46c"
      },
      "execution_count": null,
      "outputs": [
        {
          "output_type": "stream",
          "name": "stdout",
          "text": [
            "[[ 0  2]\n",
            " [ 8 10]]\n",
            "[[12 13 14 15]\n",
            " [ 8  9 10 11]\n",
            " [ 4  5  6  7]\n",
            " [ 0  1  2  3]]\n",
            "[[15 14 13 12]\n",
            " [11 10  9  8]\n",
            " [ 7  6  5  4]\n",
            " [ 3  2  1  0]]\n"
          ]
        }
      ]
    },
    {
      "cell_type": "code",
      "source": [
        "x = np.arange(0, 16)\n",
        "x.shape = (4, 4)\n",
        "\n",
        "print(x)\n",
        "print(x[3][3])\n",
        "print(x[::-1])\n",
        "print(x[::-2])"
      ],
      "metadata": {
        "colab": {
          "base_uri": "https://localhost:8080/"
        },
        "id": "e63_SzLufwud",
        "outputId": "8db97c28-b3ca-45d4-9b34-1f240b5ed372"
      },
      "execution_count": null,
      "outputs": [
        {
          "output_type": "stream",
          "name": "stdout",
          "text": [
            "[[ 0  1  2  3]\n",
            " [ 4  5  6  7]\n",
            " [ 8  9 10 11]\n",
            " [12 13 14 15]]\n",
            "15\n",
            "[[12 13 14 15]\n",
            " [ 8  9 10 11]\n",
            " [ 4  5  6  7]\n",
            " [ 0  1  2  3]]\n",
            "[[12 13 14 15]\n",
            " [ 4  5  6  7]]\n"
          ]
        }
      ]
    },
    {
      "cell_type": "code",
      "source": [
        "x = np.arange(0, 16)\n",
        "x.shape = (4, 4)\n",
        "\n",
        "print(x[::, :2:]) # first 2 columns\n",
        "print(x[::, 0:1:]) # first column\n",
        "print(x[::, -2:-1:1]) # last column"
      ],
      "metadata": {
        "colab": {
          "base_uri": "https://localhost:8080/"
        },
        "id": "EHvq0MhDnjjI",
        "outputId": "ce0a90f2-929f-45b2-c5b7-ee6e65a45ddd"
      },
      "execution_count": null,
      "outputs": [
        {
          "output_type": "stream",
          "name": "stdout",
          "text": [
            "[[ 0  1]\n",
            " [ 4  5]\n",
            " [ 8  9]\n",
            " [12 13]]\n",
            "[[ 0]\n",
            " [ 4]\n",
            " [ 8]\n",
            " [12]]\n",
            "[[ 2]\n",
            " [ 6]\n",
            " [10]\n",
            " [14]]\n"
          ]
        }
      ]
    },
    {
      "cell_type": "code",
      "source": [
        "x = np.arange(0, 16)\n",
        "x.shape = (4, 4)\n",
        "\n",
        "print(x)\n",
        "print(x[2::,:2:])"
      ],
      "metadata": {
        "colab": {
          "base_uri": "https://localhost:8080/"
        },
        "id": "WJl2Q29G5Jml",
        "outputId": "5fe234db-f3ae-45fd-ce0f-a249543e39a6"
      },
      "execution_count": null,
      "outputs": [
        {
          "output_type": "stream",
          "name": "stdout",
          "text": [
            "[[ 0  1  2  3]\n",
            " [ 4  5  6  7]\n",
            " [ 8  9 10 11]\n",
            " [12 13 14 15]]\n",
            "[[ 8  9]\n",
            " [12 13]]\n"
          ]
        }
      ]
    },
    {
      "cell_type": "code",
      "source": [],
      "metadata": {
        "id": "vWXCxJCS6BOs"
      },
      "execution_count": null,
      "outputs": []
    },
    {
      "cell_type": "markdown",
      "source": [
        "# Random array generation"
      ],
      "metadata": {
        "id": "pMGN7qUc6B3T"
      }
    },
    {
      "cell_type": "code",
      "source": [
        "aa = np.random.randint(10, 100, (5, 5))\n",
        "print(aa)"
      ],
      "metadata": {
        "colab": {
          "base_uri": "https://localhost:8080/"
        },
        "id": "jWMHdX1s6bJC",
        "outputId": "34c167f9-199b-4060-f885-450f18ec1032"
      },
      "execution_count": null,
      "outputs": [
        {
          "output_type": "stream",
          "name": "stdout",
          "text": [
            "[[43 31 43 65 85]\n",
            " [77 97 42 47 74]\n",
            " [99 75 55 53 51]\n",
            " [34 65 81 21 40]\n",
            " [34 59 43 46 92]]\n"
          ]
        }
      ]
    },
    {
      "cell_type": "code",
      "source": [
        "# [[22,84][75, 45],[11, 35]]\n",
        "print(aa[-2:-5:-1,1:3:])"
      ],
      "metadata": {
        "colab": {
          "base_uri": "https://localhost:8080/"
        },
        "id": "vc-ekh5DfIkt",
        "outputId": "6238d056-03fd-483d-a170-1d6f5f451472"
      },
      "execution_count": null,
      "outputs": [
        {
          "output_type": "stream",
          "name": "stdout",
          "text": [
            "[[22 84]\n",
            " [75 34]\n",
            " [11 35]]\n"
          ]
        }
      ]
    },
    {
      "cell_type": "code",
      "source": [
        "# [34]\n",
        "print(aa[2,2])"
      ],
      "metadata": {
        "colab": {
          "base_uri": "https://localhost:8080/"
        },
        "id": "rrHjQeDmg0At",
        "outputId": "93d0a033-e808-4961-db08-cd83f39075f6"
      },
      "execution_count": null,
      "outputs": [
        {
          "output_type": "stream",
          "name": "stdout",
          "text": [
            "34\n"
          ]
        }
      ]
    },
    {
      "cell_type": "code",
      "source": [
        "# [[79,41][70, 17]]\n",
        "print(aa[-1:-3:-1,-1:-3:-1])"
      ],
      "metadata": {
        "colab": {
          "base_uri": "https://localhost:8080/"
        },
        "id": "fOqdNBZSg8x2",
        "outputId": "1f3d6ee0-9a4b-4e89-aca0-e44a825d7ed8"
      },
      "execution_count": null,
      "outputs": [
        {
          "output_type": "stream",
          "name": "stdout",
          "text": [
            "[[92 46]\n",
            " [40 21]]\n"
          ]
        }
      ]
    },
    {
      "cell_type": "code",
      "source": [
        "# [53 55 75]\n",
        "print(aa[2:3:, -2:-5:-1])\n"
      ],
      "metadata": {
        "colab": {
          "base_uri": "https://localhost:8080/"
        },
        "id": "v41Scuneit-R",
        "outputId": "165242cd-d389-4ff5-ce9d-0623bc4b1aff"
      },
      "execution_count": null,
      "outputs": [
        {
          "output_type": "stream",
          "name": "stdout",
          "text": [
            "[[53 55 75]]\n"
          ]
        }
      ]
    },
    {
      "cell_type": "code",
      "source": [
        "# [[75 55 53]\n",
        "#  [65 81 21]]\n",
        "\n",
        "print(aa[-2:-5:-1,-2:-5:-1])"
      ],
      "metadata": {
        "colab": {
          "base_uri": "https://localhost:8080/"
        },
        "id": "9NApbxdskFeC",
        "outputId": "f856acc9-4b47-4d22-f5f7-ad1c5f382306"
      },
      "execution_count": null,
      "outputs": [
        {
          "output_type": "stream",
          "name": "stdout",
          "text": [
            "[[21 81 65]\n",
            " [53 55 75]\n",
            " [47 42 97]]\n"
          ]
        }
      ]
    },
    {
      "cell_type": "markdown",
      "source": [
        "# How to Slice 3D & REVERSE 3D Matrix`"
      ],
      "metadata": {
        "id": "Wi3XV2yblzIm"
      }
    },
    {
      "cell_type": "code",
      "source": [
        "three_d_arr = np.random.randint(10, 100, (5, 5, 5))\n",
        "print(three_d_arr)"
      ],
      "metadata": {
        "colab": {
          "base_uri": "https://localhost:8080/"
        },
        "id": "Immn-QXkl70T",
        "outputId": "ad3fde46-8841-421b-8988-0e0f4743aec0"
      },
      "execution_count": null,
      "outputs": [
        {
          "output_type": "stream",
          "name": "stdout",
          "text": [
            "[[[60 28 95 81 61]\n",
            "  [56 81 22 74 15]\n",
            "  [50 94 83 88 83]\n",
            "  [13 53 92 71 97]\n",
            "  [30 66 41 48 74]]\n",
            "\n",
            " [[46 64 53 25 10]\n",
            "  [83 39 19 46 49]\n",
            "  [94 74 43 89 20]\n",
            "  [82 38 87 43 72]\n",
            "  [48 76 85 75 91]]\n",
            "\n",
            " [[95 81 16 11 48]\n",
            "  [48 20 83 23 93]\n",
            "  [14 39 22 52 68]\n",
            "  [71 44 88 32 10]\n",
            "  [32 49 64 89 91]]\n",
            "\n",
            " [[32 14 20 33 64]\n",
            "  [30 30 73 77 22]\n",
            "  [26 21 14 47 57]\n",
            "  [82 41 89 58 61]\n",
            "  [14 20 99 57 48]]\n",
            "\n",
            " [[53 10 90 15 68]\n",
            "  [18 39 24 82 73]\n",
            "  [54 92 39 98 99]\n",
            "  [40 95 61 28 72]\n",
            "  [93 53 46 79 56]]]\n"
          ]
        }
      ]
    },
    {
      "cell_type": "code",
      "source": [
        "print(three_d_arr[2:3:, 2:3:, 2:3])"
      ],
      "metadata": {
        "colab": {
          "base_uri": "https://localhost:8080/"
        },
        "id": "2oK7fLs4l60H",
        "outputId": "eb7acdda-fe98-44a2-9f97-9f56892bf670"
      },
      "execution_count": null,
      "outputs": [
        {
          "output_type": "stream",
          "name": "stdout",
          "text": [
            "[[[22]]]\n"
          ]
        }
      ]
    },
    {
      "cell_type": "markdown",
      "source": [
        "How to Reshape"
      ],
      "metadata": {
        "id": "JocdVaajqgJB"
      }
    },
    {
      "cell_type": "code",
      "source": [
        "print(three_d_arr.reshape(25, 5))\n",
        "print(three_d_arr.ravel(25, 5))"
      ],
      "metadata": {
        "colab": {
          "base_uri": "https://localhost:8080/"
        },
        "id": "LBqORhSnqM9i",
        "outputId": "c38c59b7-d5f2-4f7b-c7db-28cf55ec8e62"
      },
      "execution_count": null,
      "outputs": [
        {
          "output_type": "stream",
          "name": "stdout",
          "text": [
            "[[60 28 95 81 61]\n",
            " [56 81 22 74 15]\n",
            " [50 94 83 88 83]\n",
            " [13 53 92 71 97]\n",
            " [30 66 41 48 74]\n",
            " [46 64 53 25 10]\n",
            " [83 39 19 46 49]\n",
            " [94 74 43 89 20]\n",
            " [82 38 87 43 72]\n",
            " [48 76 85 75 91]\n",
            " [95 81 16 11 48]\n",
            " [48 20 83 23 93]\n",
            " [14 39 22 52 68]\n",
            " [71 44 88 32 10]\n",
            " [32 49 64 89 91]\n",
            " [32 14 20 33 64]\n",
            " [30 30 73 77 22]\n",
            " [26 21 14 47 57]\n",
            " [82 41 89 58 61]\n",
            " [14 20 99 57 48]\n",
            " [53 10 90 15 68]\n",
            " [18 39 24 82 73]\n",
            " [54 92 39 98 99]\n",
            " [40 95 61 28 72]\n",
            " [93 53 46 79 56]]\n"
          ]
        }
      ]
    },
    {
      "cell_type": "code",
      "source": [
        "n1 = np.array([1,2,3,4])\n",
        "print(n1[-1])"
      ],
      "metadata": {
        "colab": {
          "base_uri": "https://localhost:8080/"
        },
        "id": "dSLZIQKiUTpV",
        "outputId": "95dbde7a-6561-43b7-8e39-a49b8654fb5b"
      },
      "execution_count": 2,
      "outputs": [
        {
          "output_type": "stream",
          "name": "stdout",
          "text": [
            "4\n"
          ]
        }
      ]
    },
    {
      "cell_type": "code",
      "source": [
        "n2 = np.array([[1,2,3,4], [5,6,7,8]])\n",
        "n2"
      ],
      "metadata": {
        "colab": {
          "base_uri": "https://localhost:8080/"
        },
        "id": "XwOCcD4jUZil",
        "outputId": "db5139cb-5716-45b1-964a-1f75a50e0670"
      },
      "execution_count": 3,
      "outputs": [
        {
          "output_type": "execute_result",
          "data": {
            "text/plain": [
              "array([[1, 2, 3, 4],\n",
              "       [5, 6, 7, 8]])"
            ]
          },
          "metadata": {},
          "execution_count": 3
        }
      ]
    },
    {
      "cell_type": "code",
      "source": [
        "print(n2[:-1,-1])"
      ],
      "metadata": {
        "colab": {
          "base_uri": "https://localhost:8080/"
        },
        "id": "RLMWFQ7MUr6O",
        "outputId": "8e6411d2-9d34-4e58-b9e0-c0416ed1c215"
      },
      "execution_count": 6,
      "outputs": [
        {
          "output_type": "stream",
          "name": "stdout",
          "text": [
            "[4]\n"
          ]
        }
      ]
    },
    {
      "cell_type": "code",
      "source": [
        "n2 = np.array([[1,2,3,4], [5,6,7,8]])\n",
        "n3 = np.array([3])"
      ],
      "metadata": {
        "id": "n04n-3LHVPQi"
      },
      "execution_count": 14,
      "outputs": []
    },
    {
      "cell_type": "markdown",
      "source": [
        "# How to Vectorize the Array"
      ],
      "metadata": {
        "id": "GyD6x4wdeab9"
      }
    },
    {
      "cell_type": "code",
      "source": [
        "# numpy.vectorize()\n",
        "def multi(x):\n",
        "  return x*2\n",
        "\n",
        "# vectorize the function\n",
        "vectorized_func = np.vectorize(multi)\n",
        "num_arr = np.array([1,2,3,4,5])\n",
        "print(vectorized_func(num_arr))\n",
        "\n",
        "\n",
        "\n",
        "# concatenate\n",
        "\n",
        "# hstack\n",
        "\n",
        "# vstack"
      ],
      "metadata": {
        "colab": {
          "base_uri": "https://localhost:8080/"
        },
        "id": "tg3ali7FVZpc",
        "outputId": "a0538718-3d54-4274-c53a-69cd647e1f9b"
      },
      "execution_count": 16,
      "outputs": [
        {
          "output_type": "stream",
          "name": "stdout",
          "text": [
            "[ 2  4  6  8 10]\n"
          ]
        }
      ]
    },
    {
      "cell_type": "markdown",
      "source": [
        "# How to broadcasting"
      ],
      "metadata": {
        "id": "adJgyz5jeyR8"
      }
    },
    {
      "cell_type": "code",
      "source": [
        "# 1D Array\n",
        "arr_1d = np.array([1, 2, 3, 4])\n",
        "# Add scalar to array (broadcasts the scalar)\n",
        "result1 = arr_1d + 10\n",
        "print(result1)\n",
        "\n",
        "# 2D Array\n",
        "arr_2d = np.array([[1, 2, 3, 4], [5, 6, 7, 8]])\n",
        "result2 = arr_2d + 10\n",
        "print(result2)\n",
        "\n"
      ],
      "metadata": {
        "colab": {
          "base_uri": "https://localhost:8080/"
        },
        "id": "oQp8zZBYexbX",
        "outputId": "6f72454d-9477-48ce-f082-70d66385850c"
      },
      "execution_count": 18,
      "outputs": [
        {
          "output_type": "stream",
          "name": "stdout",
          "text": [
            "[11 12 13 14]\n",
            "[[11 12 13 14]\n",
            " [15 16 17 18]]\n"
          ]
        }
      ]
    },
    {
      "cell_type": "code",
      "source": [
        "arr_2d = np.array([[1, 1, 1, 1], [2,2,2,2]])\n",
        "print(arr_2d.shape)\n",
        "arr_1d = np.array([3,3,3,3])\n",
        "result2 = arr_2d + arr_1d\n",
        "print(result2.shape) # Takes the shape of largest array\n",
        "print(result2)"
      ],
      "metadata": {
        "colab": {
          "base_uri": "https://localhost:8080/"
        },
        "id": "VKZ1P0JffkdZ",
        "outputId": "997f4830-b905-491e-9c3e-39789e17e04d"
      },
      "execution_count": 23,
      "outputs": [
        {
          "output_type": "stream",
          "name": "stdout",
          "text": [
            "(2, 4)\n",
            "(2, 4)\n",
            "[[4 4 4 4]\n",
            " [5 5 5 5]]\n"
          ]
        }
      ]
    },
    {
      "cell_type": "code",
      "source": [
        "arr_2d = np.array([[1, 1, 1, 1], [2,2,2,2]])\n",
        "print(arr_2d.shape)\n",
        "arr_1d = np.array([3,3,3,3])\n",
        "result2 = arr_2d + arr_1d\n",
        "print(result2.shape) # Takes the shape of largest array\n",
        "print(result2)"
      ],
      "metadata": {
        "colab": {
          "base_uri": "https://localhost:8080/"
        },
        "id": "qXb1ys1ncDYh",
        "outputId": "03e3183d-d67a-4d01-93f9-f3f8118c3bb9"
      },
      "execution_count": 29,
      "outputs": [
        {
          "output_type": "stream",
          "name": "stdout",
          "text": [
            "(2, 4)\n",
            "(2, 4)\n",
            "[[4 4 4 4]\n",
            " [5 5 5 5]]\n"
          ]
        }
      ]
    },
    {
      "cell_type": "code",
      "source": [
        "# doesnt work since shape is different and the other one is not not 1d\n",
        "# the shapes doesnt actually match\n",
        "arr_2d = np.array([[1, 1], [2,2]])\n",
        "print(arr_2d.shape)\n",
        "arr_1d = np.array([3,3,3,3])\n",
        "result2 = arr_2d + arr_1d\n",
        "print(result2.shape) # Takes the shape of largest array\n",
        "print(result2)"
      ],
      "metadata": {
        "colab": {
          "base_uri": "https://localhost:8080/",
          "height": 233
        },
        "id": "mCVe8L3flSpI",
        "outputId": "2b22e376-bb95-4313-a107-3678553d8866"
      },
      "execution_count": 25,
      "outputs": [
        {
          "output_type": "stream",
          "name": "stdout",
          "text": [
            "(2, 2)\n"
          ]
        },
        {
          "output_type": "error",
          "ename": "ValueError",
          "evalue": "operands could not be broadcast together with shapes (2,2) (4,) ",
          "traceback": [
            "\u001b[0;31m---------------------------------------------------------------------------\u001b[0m",
            "\u001b[0;31mValueError\u001b[0m                                Traceback (most recent call last)",
            "\u001b[0;32m<ipython-input-25-aa6011f0b4bc>\u001b[0m in \u001b[0;36m<cell line: 6>\u001b[0;34m()\u001b[0m\n\u001b[1;32m      4\u001b[0m \u001b[0mprint\u001b[0m\u001b[0;34m(\u001b[0m\u001b[0marr_2d\u001b[0m\u001b[0;34m.\u001b[0m\u001b[0mshape\u001b[0m\u001b[0;34m)\u001b[0m\u001b[0;34m\u001b[0m\u001b[0;34m\u001b[0m\u001b[0m\n\u001b[1;32m      5\u001b[0m \u001b[0marr_1d\u001b[0m \u001b[0;34m=\u001b[0m \u001b[0mnp\u001b[0m\u001b[0;34m.\u001b[0m\u001b[0marray\u001b[0m\u001b[0;34m(\u001b[0m\u001b[0;34m[\u001b[0m\u001b[0;36m3\u001b[0m\u001b[0;34m,\u001b[0m\u001b[0;36m3\u001b[0m\u001b[0;34m,\u001b[0m\u001b[0;36m3\u001b[0m\u001b[0;34m,\u001b[0m\u001b[0;36m3\u001b[0m\u001b[0;34m]\u001b[0m\u001b[0;34m)\u001b[0m\u001b[0;34m\u001b[0m\u001b[0;34m\u001b[0m\u001b[0m\n\u001b[0;32m----> 6\u001b[0;31m \u001b[0mresult2\u001b[0m \u001b[0;34m=\u001b[0m \u001b[0marr_2d\u001b[0m \u001b[0;34m+\u001b[0m \u001b[0marr_1d\u001b[0m\u001b[0;34m\u001b[0m\u001b[0;34m\u001b[0m\u001b[0m\n\u001b[0m\u001b[1;32m      7\u001b[0m \u001b[0mprint\u001b[0m\u001b[0;34m(\u001b[0m\u001b[0mresult2\u001b[0m\u001b[0;34m.\u001b[0m\u001b[0mshape\u001b[0m\u001b[0;34m)\u001b[0m \u001b[0;31m# Takes the shape of largest array\u001b[0m\u001b[0;34m\u001b[0m\u001b[0;34m\u001b[0m\u001b[0m\n\u001b[1;32m      8\u001b[0m \u001b[0mprint\u001b[0m\u001b[0;34m(\u001b[0m\u001b[0mresult2\u001b[0m\u001b[0;34m)\u001b[0m\u001b[0;34m\u001b[0m\u001b[0;34m\u001b[0m\u001b[0m\n",
            "\u001b[0;31mValueError\u001b[0m: operands could not be broadcast together with shapes (2,2) (4,) "
          ]
        }
      ]
    },
    {
      "cell_type": "code",
      "source": [
        "# the shapes actually match\n",
        "arr_2d = np.array([[1], [2], [3], [4]])\n",
        "print(arr_2d.shape)\n",
        "arr_1d = np.array([3,3,3,3])\n",
        "result2 = arr_2d + arr_1d\n",
        "print(result2.shape) # Takes the shape of largest array\n",
        "print(result2)"
      ],
      "metadata": {
        "colab": {
          "base_uri": "https://localhost:8080/"
        },
        "id": "B-GJ4MEYn8a5",
        "outputId": "30aaa5e5-f393-4f2b-f2bd-647fff0e2fbd"
      },
      "execution_count": 28,
      "outputs": [
        {
          "output_type": "stream",
          "name": "stdout",
          "text": [
            "(4, 1)\n",
            "(4, 4)\n",
            "[[4 4 4 4]\n",
            " [5 5 5 5]\n",
            " [6 6 6 6]\n",
            " [7 7 7 7]]\n"
          ]
        }
      ]
    },
    {
      "cell_type": "markdown",
      "source": [
        "# How concatenate & stack differs\n",
        "1. SHAPE NEED NOT BE SAME FOR CONCATENATE\n",
        "  1. CONCATENATE VERTICALLY ( 0 AXIS), COLUMNS SHUD BE SAME\n",
        "  2. CONCATENATE HORIZONTALLY ( 1 AXIS), ROWS SHUD BE SAME\n",
        "  3. NOT CHANGE IN DIMENSION\n",
        "2. SHAPE NEED TO BE SAME FOR STACK\n",
        "  1. adds a new dimenion altogether, if (2,2), (2,2) is stacked, then a new dimension gets added resulting in (2,2,2)\n"
      ],
      "metadata": {
        "id": "rYqib31T8pDw"
      }
    },
    {
      "cell_type": "markdown",
      "source": [
        "# Key Differences:\n",
        "# Dimension Handling:\n",
        "np.concatenate() joins arrays along an existing axis without increasing the number of dimensions.\n",
        "np.stack() joins arrays along a new axis, resulting in an array with one extra dimension.\n",
        "Input Array Shape:\n",
        "\n",
        "For np.concatenate(), the input arrays must have the same shape except in the dimension specified by the axis.\n",
        "For np.stack(), the input arrays must have exactly the same shape because a new axis will be created.\n",
        "Use Case:\n",
        "\n",
        "Use np.concatenate() when you want to combine arrays along an existing dimension (e.g., appending rows or columns).\n",
        "Use np.stack() when you need to combine arrays and add an extra dimension (e.g., stacking 2D arrays to create a 3D array)."
      ],
      "metadata": {
        "id": "uWrxQwKrA0t0"
      }
    },
    {
      "cell_type": "code",
      "source": [
        "# TO Concatenate along axis 0 (vertically), NUMBER OF COLUMNS SHUD MATCH\n",
        "import numpy as np\n",
        "\n",
        "# Two 2D arrays\n",
        "a1 = np.array([[1, 2], [3, 4]])\n",
        "print(a1.shape)\n",
        "b1 = np.array([[5, 6]])\n",
        "print(b1.shape)\n",
        "\n",
        "# for concat along axis 0, the NUMBER OF COLUMNS SHUD MATCH\n",
        "result = np.concatenate((a1, b1), axis=0)\n",
        "print(result)\n",
        "print(result.shape)\n",
        "\n"
      ],
      "metadata": {
        "colab": {
          "base_uri": "https://localhost:8080/"
        },
        "id": "PYgiTsDOn5Oa",
        "outputId": "10a3269c-534b-475f-fd46-ac07b54814fa"
      },
      "execution_count": 24,
      "outputs": [
        {
          "output_type": "stream",
          "name": "stdout",
          "text": [
            "(2, 2)\n",
            "(1, 2)\n",
            "[[1 2]\n",
            " [3 4]\n",
            " [5 6]]\n",
            "(3, 2)\n"
          ]
        }
      ]
    },
    {
      "cell_type": "code",
      "source": [
        "# Concatenate along axis 1 (horizontally), the NUMBER OF ROWS SHUD MATCH\n",
        "import numpy as np\n",
        "\n",
        "# Two 2D arrays\n",
        "a2 = np.array([[1, 2], [3, 4]])\n",
        "print(a2.shape)\n",
        "b2 = np.array([[5], [1]])\n",
        "print(b2.shape)\n",
        "\n",
        "# for concat along axis 0, the NUMBER OF ROWS SHUD MATCH\n",
        "result = np.concatenate((a2, b2), axis=1)\n",
        "print(result)\n",
        "print(result.shape)\n"
      ],
      "metadata": {
        "colab": {
          "base_uri": "https://localhost:8080/"
        },
        "id": "R6PLLIUN-FUy",
        "outputId": "48309c6b-5360-4059-db86-d43f278ba160"
      },
      "execution_count": 25,
      "outputs": [
        {
          "output_type": "stream",
          "name": "stdout",
          "text": [
            "(2, 2)\n",
            "(2, 1)\n",
            "[[1 2 5]\n",
            " [3 4 1]]\n",
            "(2, 3)\n"
          ]
        }
      ]
    },
    {
      "cell_type": "code",
      "source": [
        "# stack\n",
        "# all inputs must have the same shape\n",
        "# adds a new dimenion altogether, if (2,2), (2,2) is stacked, then a new dimension gets added resulting in (2,2,2)\n",
        "import numpy as np\n",
        "\n",
        "# Two 2D arrays\n",
        "a = np.array([[1, 2], [3, 4]])\n",
        "b = np.array([[5, 6], [7, 8]])\n",
        "print(a.shape)\n",
        "print(b.shape)\n",
        "\n",
        "\n",
        "# Stack along a new axis (axis 0)\n",
        "result = np.stack((a, b), axis=0)\n",
        "print(result)\n",
        "print(result.shape)\n"
      ],
      "metadata": {
        "colab": {
          "base_uri": "https://localhost:8080/"
        },
        "id": "EFa6jHem873H",
        "outputId": "e9a6415c-7d03-4ba7-a208-dc85bf459008"
      },
      "execution_count": 28,
      "outputs": [
        {
          "output_type": "stream",
          "name": "stdout",
          "text": [
            "(2, 2)\n",
            "(2, 2)\n",
            "[[[1 2]\n",
            "  [3 4]]\n",
            "\n",
            " [[5 6]\n",
            "  [7 8]]]\n",
            "(2, 2, 2)\n"
          ]
        }
      ]
    },
    {
      "cell_type": "markdown",
      "source": [
        "# How broadcasting works with 2d array & sacalr value\n",
        "1. Results in Scalar value taking the shape of array with which it was broadcasted\n",
        "2. used to perform operation on array with 2 different dimensions\n",
        "\n"
      ],
      "metadata": {
        "id": "E5FCP_yiCKyG"
      }
    },
    {
      "cell_type": "code",
      "source": [
        "import numpy as np\n",
        "\n",
        "# Creating a 2d\n",
        "arr2d = np.array([[1,2], [3,4]])\n",
        "\n",
        "# Creating a scalar\n",
        "scalar = np.array(5)\n",
        "\n",
        "# adding a scalar & an array\n",
        "res = arr2d + scalar\n",
        "print(res)\n",
        "print(res.shape)\n"
      ],
      "metadata": {
        "colab": {
          "base_uri": "https://localhost:8080/"
        },
        "id": "x159Y7aq9Fwi",
        "outputId": "a19395a0-43b1-415a-ca14-fa782169a84d"
      },
      "execution_count": 32,
      "outputs": [
        {
          "output_type": "stream",
          "name": "stdout",
          "text": [
            "[[6 7]\n",
            " [8 9]]\n",
            "(2, 2)\n"
          ]
        }
      ]
    },
    {
      "cell_type": "markdown",
      "source": [
        "# How to repeat the arrays"
      ],
      "metadata": {
        "id": "vGmORxIdC5_6"
      }
    },
    {
      "cell_type": "code",
      "source": [
        "import numpy as np\n",
        "\n",
        "arr = np.array([[1, 2], [3, 4]])\n",
        "print(arr.shape)\n",
        "result = np.repeat(arr, [1, 2], axis=0) # repeat the first array element once & next twice vertically\n",
        "print(result)\n",
        "\n",
        "arr1 = np.array([[5, 6], [7, 8]])\n",
        "result1 = np.repeat(arr1, [1,2], axis=1)  # repeat the first array element once & next twice horizontally\n",
        "print(result1)\n"
      ],
      "metadata": {
        "colab": {
          "base_uri": "https://localhost:8080/"
        },
        "id": "eoVYqPzKC5Nh",
        "outputId": "d94c27d3-7acc-4289-d7c7-dec4b3449054"
      },
      "execution_count": 39,
      "outputs": [
        {
          "output_type": "stream",
          "name": "stdout",
          "text": [
            "(2, 2)\n",
            "[[1 2]\n",
            " [3 4]\n",
            " [3 4]]\n",
            "[[5 6 6]\n",
            " [7 8 8]]\n"
          ]
        }
      ]
    },
    {
      "cell_type": "code",
      "source": [
        "import numpy as np\n",
        "\n",
        "# Create a 3x3 NumPy array\n",
        "arr1 = np.array([[1, 2, 3], [4, 5, 6], [7, 8, 9]])\n",
        "\n",
        "# Create a 1x3 NumPy array\n",
        "arr2 = np.array([7, 8, 9])\n",
        "\n",
        "arr3 = arr1 + arr2\n",
        "print(arr3.shape)"
      ],
      "metadata": {
        "colab": {
          "base_uri": "https://localhost:8080/"
        },
        "id": "pXbGP9JLB-nK",
        "outputId": "108a3b93-b8bf-4a18-dd8a-772a0893d043"
      },
      "execution_count": 42,
      "outputs": [
        {
          "output_type": "stream",
          "name": "stdout",
          "text": [
            "(3, 3)\n"
          ]
        }
      ]
    },
    {
      "cell_type": "markdown",
      "source": [
        "# how numpy & pandas fucntion differ in spelling\n",
        "1. isna in pandas, isnan in numpy\n",
        "2. concat in pandas, concatenate in numpy\n",
        "\n"
      ],
      "metadata": {
        "id": "MyLQcDCgFpGy"
      }
    },
    {
      "cell_type": "code",
      "source": [],
      "metadata": {
        "id": "PTp30KeaFP7O"
      },
      "execution_count": null,
      "outputs": []
    }
  ]
}