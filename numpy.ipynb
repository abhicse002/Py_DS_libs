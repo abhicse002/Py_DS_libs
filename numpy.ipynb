{
  "nbformat": 4,
  "nbformat_minor": 0,
  "metadata": {
    "colab": {
      "provenance": [],
      "authorship_tag": "ABX9TyMsivExR9mrx61MSSubi+op",
      "include_colab_link": true
    },
    "kernelspec": {
      "name": "python3",
      "display_name": "Python 3"
    },
    "language_info": {
      "name": "python"
    }
  },
  "cells": [
    {
      "cell_type": "markdown",
      "metadata": {
        "id": "view-in-github",
        "colab_type": "text"
      },
      "source": [
        "<a href=\"https://colab.research.google.com/github/abhicse002/Py_DS_libs/blob/main/numpy.ipynb\" target=\"_parent\"><img src=\"https://colab.research.google.com/assets/colab-badge.svg\" alt=\"Open In Colab\"/></a>"
      ]
    },
    {
      "cell_type": "markdown",
      "source": [
        "# How to define an Numpy Array"
      ],
      "metadata": {
        "id": "THSglxZeQV7d"
      }
    },
    {
      "cell_type": "code",
      "source": [
        "import numpy as np\n",
        "\n",
        "list1 = [[1,2], [2,3], [4,6]]\n",
        "nump_arr = np.array(list1)\n",
        "print(nump_arr)"
      ],
      "metadata": {
        "colab": {
          "base_uri": "https://localhost:8080/"
        },
        "id": "ZDACJ0cuQXnK",
        "outputId": "6a22664f-6144-47fe-f9ef-c62d95069243"
      },
      "execution_count": null,
      "outputs": [
        {
          "output_type": "stream",
          "name": "stdout",
          "text": [
            "[[1 2]\n",
            " [2 3]\n",
            " [4 6]]\n"
          ]
        }
      ]
    },
    {
      "cell_type": "markdown",
      "source": [
        "# How to Check length, size, datatype and its behavior of len in diff dimension"
      ],
      "metadata": {
        "id": "Y48NXf4-nlPp"
      }
    },
    {
      "cell_type": "code",
      "source": [
        "l1 = [[[1,2,3,4,5],[1,2,3,4.9,5]], [[1,2,3,4,5],[1,2,3,4,5]], [[1,2,3,4,5],[1,2,3,4,5]]]\n",
        "l1 = np.array(l1)\n",
        "print(l1.size) # Gives no. of elements in an Array irrespective of Dimension\n",
        "print(len(l1)) # Gives the no of elements of 1D Array, no of Rows in 2D array, no of Layers in 3D array\n",
        "print(l1.dtype)"
      ],
      "metadata": {
        "colab": {
          "base_uri": "https://localhost:8080/"
        },
        "id": "xqz_FlXTnkSn",
        "outputId": "8fb2b790-7788-4efd-f2ac-1686eba2bb00"
      },
      "execution_count": null,
      "outputs": [
        {
          "output_type": "stream",
          "name": "stdout",
          "text": [
            "30\n",
            "3\n",
            "float64\n"
          ]
        }
      ]
    },
    {
      "cell_type": "code",
      "source": [
        "tuple1 = ((1,2), (2,3), (4,9))\n",
        "nump_arr = np.array(tuple1)\n",
        "print(nump_arr)"
      ],
      "metadata": {
        "colab": {
          "base_uri": "https://localhost:8080/"
        },
        "id": "L2ZRH5jfliLm",
        "outputId": "15375f40-6353-4b2c-eb52-e4c4211bac2f"
      },
      "execution_count": null,
      "outputs": [
        {
          "output_type": "stream",
          "name": "stdout",
          "text": [
            "[[1 2]\n",
            " [2 3]\n",
            " [4 9]]\n"
          ]
        }
      ]
    },
    {
      "cell_type": "markdown",
      "source": [
        "# How to reshape an Array"
      ],
      "metadata": {
        "id": "a2aEAiIvSBFF"
      }
    },
    {
      "cell_type": "code",
      "source": [
        "x = np.arange(0, 16)\n",
        "print(x)\n",
        "\n",
        "y = x.reshape(2, 8)\n",
        "print(y)\n",
        "\n",
        "print(np.shape(y))\n",
        "\n",
        "y.shape = (4, 4)\n",
        "print(y)"
      ],
      "metadata": {
        "colab": {
          "base_uri": "https://localhost:8080/"
        },
        "id": "i7B7UmCRSEmV",
        "outputId": "c2d175df-4082-4dbd-e2cb-46aa36c2805e"
      },
      "execution_count": null,
      "outputs": [
        {
          "output_type": "stream",
          "name": "stdout",
          "text": [
            "[ 0  1  2  3  4  5  6  7  8  9 10 11 12 13 14 15]\n",
            "[[ 0  1  2  3  4  5  6  7]\n",
            " [ 8  9 10 11 12 13 14 15]]\n",
            "(2, 8)\n",
            "[[ 0  1  2  3]\n",
            " [ 4  5  6  7]\n",
            " [ 8  9 10 11]\n",
            " [12 13 14 15]]\n"
          ]
        }
      ]
    },
    {
      "cell_type": "markdown",
      "source": [
        "# How to create 3D Array\n",
        "*   shape = (Layers, rows, columns)\n",
        "*   Repeat 2D array\n",
        "* Value error will arise if incorrect dimension for incorrect data\n",
        "\n",
        "\n",
        "\n",
        "\n"
      ],
      "metadata": {
        "id": "ue5ZCbpNUex5"
      }
    },
    {
      "cell_type": "code",
      "source": [
        "# create an 3D array of 3 layers, 4, rows, 3 columns\n",
        "# 3 * 4 * 3\n",
        "x = np.arange(0,36)\n",
        "\n",
        "x.shape = (3, 4, 3)\n",
        "print(x)"
      ],
      "metadata": {
        "colab": {
          "base_uri": "https://localhost:8080/"
        },
        "id": "xWtGlGDdUtYY",
        "outputId": "2331512b-4e57-416a-c4ea-5217515162b0"
      },
      "execution_count": null,
      "outputs": [
        {
          "output_type": "stream",
          "name": "stdout",
          "text": [
            "[[[ 0  1  2]\n",
            "  [ 3  4  5]\n",
            "  [ 6  7  8]\n",
            "  [ 9 10 11]]\n",
            "\n",
            " [[12 13 14]\n",
            "  [15 16 17]\n",
            "  [18 19 20]\n",
            "  [21 22 23]]\n",
            "\n",
            " [[24 25 26]\n",
            "  [27 28 29]\n",
            "  [30 31 32]\n",
            "  [33 34 35]]]\n"
          ]
        }
      ]
    },
    {
      "cell_type": "code",
      "source": [
        "oned_list = [1,2,3]\n",
        "twod_list = [[1,2,3], [1,2,3]]\n",
        "threed_list = [[[1,2,3], [1,2,3]], [[1,2,3], [1,2,3]]]\n",
        "\n",
        "print(threed_list)\n",
        "print(np.shape(threed_list))\n",
        "\n"
      ],
      "metadata": {
        "colab": {
          "base_uri": "https://localhost:8080/"
        },
        "id": "UZGMN-l4W4qj",
        "outputId": "a23e57a3-e72f-429c-881e-65624f47fe32"
      },
      "execution_count": null,
      "outputs": [
        {
          "output_type": "stream",
          "name": "stdout",
          "text": [
            "[[[1, 2, 3], [1, 2, 3]], [[1, 2, 3], [1, 2, 3]]]\n",
            "(2, 2, 3)\n"
          ]
        }
      ]
    },
    {
      "cell_type": "markdown",
      "source": [
        "# How to Index & slice np 1D Array"
      ],
      "metadata": {
        "id": "gdFZ2oA6ZVy_"
      }
    },
    {
      "cell_type": "code",
      "source": [
        "x = np.arange(0, 16)\n",
        "# print(x[0:len(x): 2])\n",
        "\n",
        "# reverse Indexing\n",
        "print(x[-5: 2: -1])\n",
        "print(x[-5: -7: -1])\n",
        "print(x[-5: 0: -1])\n",
        "print(x[: -3: 1])\n",
        "# print(x[::])\n",
        "\n",
        "\n",
        "\n",
        "\n"
      ],
      "metadata": {
        "colab": {
          "base_uri": "https://localhost:8080/"
        },
        "id": "loRaYhINZbid",
        "outputId": "3e3ff939-c643-44ae-8ff1-9c640d5da456"
      },
      "execution_count": null,
      "outputs": [
        {
          "output_type": "stream",
          "name": "stdout",
          "text": [
            "[11 10  9  8  7  6  5  4  3]\n",
            "[11 10]\n",
            "[11 10  9  8  7  6  5  4  3  2  1]\n",
            "[ 0  1  2  3  4  5  6  7  8  9 10 11 12]\n"
          ]
        }
      ]
    },
    {
      "cell_type": "markdown",
      "source": [
        "# How to Index np 2D Array"
      ],
      "metadata": {
        "id": "Exju6j1Cb9k1"
      }
    },
    {
      "cell_type": "code",
      "source": [
        "x = np.arange(0, 16)\n",
        "x.shape = (4, 4)\n",
        "print(x)"
      ],
      "metadata": {
        "colab": {
          "base_uri": "https://localhost:8080/"
        },
        "id": "60EEiz7vb_lG",
        "outputId": "e42f3b07-0d53-4d3d-82bd-04e82485a942"
      },
      "execution_count": null,
      "outputs": [
        {
          "output_type": "stream",
          "name": "stdout",
          "text": [
            "[[ 0  1  2  3]\n",
            " [ 4  5  6  7]\n",
            " [ 8  9 10 11]\n",
            " [12 13 14 15]]\n"
          ]
        }
      ]
    },
    {
      "cell_type": "code",
      "source": [
        "x[-1]\n",
        "x[1][1]\n",
        "x[1][-1]\n",
        "x[2][-1]"
      ],
      "metadata": {
        "colab": {
          "base_uri": "https://localhost:8080/"
        },
        "id": "GC-MnLOncYmb",
        "outputId": "9d0eceee-3f17-453e-de0b-5ccb6ef29b35"
      },
      "execution_count": null,
      "outputs": [
        {
          "output_type": "execute_result",
          "data": {
            "text/plain": [
              "11"
            ]
          },
          "metadata": {},
          "execution_count": 52
        }
      ]
    },
    {
      "cell_type": "code",
      "source": [
        "len(x) # when applied on 2D array returns number of Rows"
      ],
      "metadata": {
        "colab": {
          "base_uri": "https://localhost:8080/"
        },
        "id": "xoBO6OOmceOy",
        "outputId": "c1d62ba1-daeb-4846-9f91-3e6f3a521f46"
      },
      "execution_count": null,
      "outputs": [
        {
          "output_type": "execute_result",
          "data": {
            "text/plain": [
              "4"
            ]
          },
          "metadata": {},
          "execution_count": 54
        }
      ]
    },
    {
      "cell_type": "markdown",
      "source": [
        "# How to Slice 2D & REVERSE 2D Matrix`"
      ],
      "metadata": {
        "id": "v72E9AeDeK0C"
      }
    },
    {
      "cell_type": "code",
      "source": [
        "x = np.arange(0, 16)\n",
        "x.shape = (4, 4)\n",
        "# print(x)\n",
        "print(x[0:4:2,0:4:2])\n",
        "print(x[::-1])  # reverses ROW\n",
        "print(x[::-1, ::-1])  # reverses ROW & COLUMN"
      ],
      "metadata": {
        "colab": {
          "base_uri": "https://localhost:8080/"
        },
        "id": "kDlKPCSqckJq",
        "outputId": "da05f675-5fcc-4677-b201-79221ce0e46c"
      },
      "execution_count": null,
      "outputs": [
        {
          "output_type": "stream",
          "name": "stdout",
          "text": [
            "[[ 0  2]\n",
            " [ 8 10]]\n",
            "[[12 13 14 15]\n",
            " [ 8  9 10 11]\n",
            " [ 4  5  6  7]\n",
            " [ 0  1  2  3]]\n",
            "[[15 14 13 12]\n",
            " [11 10  9  8]\n",
            " [ 7  6  5  4]\n",
            " [ 3  2  1  0]]\n"
          ]
        }
      ]
    },
    {
      "cell_type": "code",
      "source": [
        "x = np.arange(0, 16)\n",
        "x.shape = (4, 4)\n",
        "\n",
        "print(x)\n",
        "print(x[3][3])\n",
        "print(x[::-1])\n",
        "print(x[::-2])"
      ],
      "metadata": {
        "colab": {
          "base_uri": "https://localhost:8080/"
        },
        "id": "e63_SzLufwud",
        "outputId": "8db97c28-b3ca-45d4-9b34-1f240b5ed372"
      },
      "execution_count": null,
      "outputs": [
        {
          "output_type": "stream",
          "name": "stdout",
          "text": [
            "[[ 0  1  2  3]\n",
            " [ 4  5  6  7]\n",
            " [ 8  9 10 11]\n",
            " [12 13 14 15]]\n",
            "15\n",
            "[[12 13 14 15]\n",
            " [ 8  9 10 11]\n",
            " [ 4  5  6  7]\n",
            " [ 0  1  2  3]]\n",
            "[[12 13 14 15]\n",
            " [ 4  5  6  7]]\n"
          ]
        }
      ]
    },
    {
      "cell_type": "code",
      "source": [
        "x = np.arange(0, 16)\n",
        "x.shape = (4, 4)\n",
        "\n",
        "print(x[::, :2:]) # first 2 columns\n",
        "print(x[::, 0:1:]) # first column\n",
        "print(x[::, -2:-1:1]) # last column"
      ],
      "metadata": {
        "colab": {
          "base_uri": "https://localhost:8080/"
        },
        "id": "EHvq0MhDnjjI",
        "outputId": "ce0a90f2-929f-45b2-c5b7-ee6e65a45ddd"
      },
      "execution_count": null,
      "outputs": [
        {
          "output_type": "stream",
          "name": "stdout",
          "text": [
            "[[ 0  1]\n",
            " [ 4  5]\n",
            " [ 8  9]\n",
            " [12 13]]\n",
            "[[ 0]\n",
            " [ 4]\n",
            " [ 8]\n",
            " [12]]\n",
            "[[ 2]\n",
            " [ 6]\n",
            " [10]\n",
            " [14]]\n"
          ]
        }
      ]
    },
    {
      "cell_type": "code",
      "source": [
        "x = np.arange(0, 16)\n",
        "x.shape = (4, 4)\n",
        "\n",
        "print(x)\n",
        "print(x[2::,:2:])"
      ],
      "metadata": {
        "colab": {
          "base_uri": "https://localhost:8080/"
        },
        "id": "WJl2Q29G5Jml",
        "outputId": "5fe234db-f3ae-45fd-ce0f-a249543e39a6"
      },
      "execution_count": null,
      "outputs": [
        {
          "output_type": "stream",
          "name": "stdout",
          "text": [
            "[[ 0  1  2  3]\n",
            " [ 4  5  6  7]\n",
            " [ 8  9 10 11]\n",
            " [12 13 14 15]]\n",
            "[[ 8  9]\n",
            " [12 13]]\n"
          ]
        }
      ]
    },
    {
      "cell_type": "code",
      "source": [],
      "metadata": {
        "id": "vWXCxJCS6BOs"
      },
      "execution_count": null,
      "outputs": []
    },
    {
      "cell_type": "markdown",
      "source": [
        "# Random array generation"
      ],
      "metadata": {
        "id": "pMGN7qUc6B3T"
      }
    },
    {
      "cell_type": "code",
      "source": [
        "aa = np.random.randint(10, 100, (5, 5))\n",
        "print(aa)"
      ],
      "metadata": {
        "colab": {
          "base_uri": "https://localhost:8080/"
        },
        "id": "jWMHdX1s6bJC",
        "outputId": "34c167f9-199b-4060-f885-450f18ec1032"
      },
      "execution_count": null,
      "outputs": [
        {
          "output_type": "stream",
          "name": "stdout",
          "text": [
            "[[43 31 43 65 85]\n",
            " [77 97 42 47 74]\n",
            " [99 75 55 53 51]\n",
            " [34 65 81 21 40]\n",
            " [34 59 43 46 92]]\n"
          ]
        }
      ]
    },
    {
      "cell_type": "code",
      "source": [
        "# [[22,84][75, 45],[11, 35]]\n",
        "print(aa[-2:-5:-1,1:3:])"
      ],
      "metadata": {
        "colab": {
          "base_uri": "https://localhost:8080/"
        },
        "id": "vc-ekh5DfIkt",
        "outputId": "6238d056-03fd-483d-a170-1d6f5f451472"
      },
      "execution_count": null,
      "outputs": [
        {
          "output_type": "stream",
          "name": "stdout",
          "text": [
            "[[22 84]\n",
            " [75 34]\n",
            " [11 35]]\n"
          ]
        }
      ]
    },
    {
      "cell_type": "code",
      "source": [
        "# [34]\n",
        "print(aa[2,2])"
      ],
      "metadata": {
        "colab": {
          "base_uri": "https://localhost:8080/"
        },
        "id": "rrHjQeDmg0At",
        "outputId": "93d0a033-e808-4961-db08-cd83f39075f6"
      },
      "execution_count": null,
      "outputs": [
        {
          "output_type": "stream",
          "name": "stdout",
          "text": [
            "34\n"
          ]
        }
      ]
    },
    {
      "cell_type": "code",
      "source": [
        "# [[79,41][70, 17]]\n",
        "print(aa[-1:-3:-1,-1:-3:-1])"
      ],
      "metadata": {
        "colab": {
          "base_uri": "https://localhost:8080/"
        },
        "id": "fOqdNBZSg8x2",
        "outputId": "1f3d6ee0-9a4b-4e89-aca0-e44a825d7ed8"
      },
      "execution_count": null,
      "outputs": [
        {
          "output_type": "stream",
          "name": "stdout",
          "text": [
            "[[92 46]\n",
            " [40 21]]\n"
          ]
        }
      ]
    },
    {
      "cell_type": "code",
      "source": [
        "# [53 55 75]\n",
        "print(aa[2:3:, -2:-5:-1])\n"
      ],
      "metadata": {
        "colab": {
          "base_uri": "https://localhost:8080/"
        },
        "id": "v41Scuneit-R",
        "outputId": "165242cd-d389-4ff5-ce9d-0623bc4b1aff"
      },
      "execution_count": null,
      "outputs": [
        {
          "output_type": "stream",
          "name": "stdout",
          "text": [
            "[[53 55 75]]\n"
          ]
        }
      ]
    },
    {
      "cell_type": "code",
      "source": [
        "# [[75 55 53]\n",
        "#  [65 81 21]]\n",
        "\n",
        "print(aa[-2:-5:-1,-2:-5:-1])"
      ],
      "metadata": {
        "colab": {
          "base_uri": "https://localhost:8080/"
        },
        "id": "9NApbxdskFeC",
        "outputId": "f856acc9-4b47-4d22-f5f7-ad1c5f382306"
      },
      "execution_count": null,
      "outputs": [
        {
          "output_type": "stream",
          "name": "stdout",
          "text": [
            "[[21 81 65]\n",
            " [53 55 75]\n",
            " [47 42 97]]\n"
          ]
        }
      ]
    },
    {
      "cell_type": "markdown",
      "source": [
        "# How to Slice 3D & REVERSE 3D Matrix`"
      ],
      "metadata": {
        "id": "Wi3XV2yblzIm"
      }
    },
    {
      "cell_type": "code",
      "source": [
        "three_d_arr = np.random.randint(10, 100, (5, 5, 5))\n",
        "print(three_d_arr)"
      ],
      "metadata": {
        "colab": {
          "base_uri": "https://localhost:8080/"
        },
        "id": "Immn-QXkl70T",
        "outputId": "ad3fde46-8841-421b-8988-0e0f4743aec0"
      },
      "execution_count": null,
      "outputs": [
        {
          "output_type": "stream",
          "name": "stdout",
          "text": [
            "[[[60 28 95 81 61]\n",
            "  [56 81 22 74 15]\n",
            "  [50 94 83 88 83]\n",
            "  [13 53 92 71 97]\n",
            "  [30 66 41 48 74]]\n",
            "\n",
            " [[46 64 53 25 10]\n",
            "  [83 39 19 46 49]\n",
            "  [94 74 43 89 20]\n",
            "  [82 38 87 43 72]\n",
            "  [48 76 85 75 91]]\n",
            "\n",
            " [[95 81 16 11 48]\n",
            "  [48 20 83 23 93]\n",
            "  [14 39 22 52 68]\n",
            "  [71 44 88 32 10]\n",
            "  [32 49 64 89 91]]\n",
            "\n",
            " [[32 14 20 33 64]\n",
            "  [30 30 73 77 22]\n",
            "  [26 21 14 47 57]\n",
            "  [82 41 89 58 61]\n",
            "  [14 20 99 57 48]]\n",
            "\n",
            " [[53 10 90 15 68]\n",
            "  [18 39 24 82 73]\n",
            "  [54 92 39 98 99]\n",
            "  [40 95 61 28 72]\n",
            "  [93 53 46 79 56]]]\n"
          ]
        }
      ]
    },
    {
      "cell_type": "code",
      "source": [
        "print(three_d_arr[2:3:, 2:3:, 2:3])"
      ],
      "metadata": {
        "colab": {
          "base_uri": "https://localhost:8080/"
        },
        "id": "2oK7fLs4l60H",
        "outputId": "eb7acdda-fe98-44a2-9f97-9f56892bf670"
      },
      "execution_count": null,
      "outputs": [
        {
          "output_type": "stream",
          "name": "stdout",
          "text": [
            "[[[22]]]\n"
          ]
        }
      ]
    },
    {
      "cell_type": "markdown",
      "source": [
        "How to Reshape"
      ],
      "metadata": {
        "id": "JocdVaajqgJB"
      }
    },
    {
      "cell_type": "code",
      "source": [
        "print(three_d_arr.reshape(25, 5))\n",
        "print(three_d_arr.ravel(25, 5))"
      ],
      "metadata": {
        "colab": {
          "base_uri": "https://localhost:8080/"
        },
        "id": "LBqORhSnqM9i",
        "outputId": "c38c59b7-d5f2-4f7b-c7db-28cf55ec8e62"
      },
      "execution_count": null,
      "outputs": [
        {
          "output_type": "stream",
          "name": "stdout",
          "text": [
            "[[60 28 95 81 61]\n",
            " [56 81 22 74 15]\n",
            " [50 94 83 88 83]\n",
            " [13 53 92 71 97]\n",
            " [30 66 41 48 74]\n",
            " [46 64 53 25 10]\n",
            " [83 39 19 46 49]\n",
            " [94 74 43 89 20]\n",
            " [82 38 87 43 72]\n",
            " [48 76 85 75 91]\n",
            " [95 81 16 11 48]\n",
            " [48 20 83 23 93]\n",
            " [14 39 22 52 68]\n",
            " [71 44 88 32 10]\n",
            " [32 49 64 89 91]\n",
            " [32 14 20 33 64]\n",
            " [30 30 73 77 22]\n",
            " [26 21 14 47 57]\n",
            " [82 41 89 58 61]\n",
            " [14 20 99 57 48]\n",
            " [53 10 90 15 68]\n",
            " [18 39 24 82 73]\n",
            " [54 92 39 98 99]\n",
            " [40 95 61 28 72]\n",
            " [93 53 46 79 56]]\n"
          ]
        }
      ]
    }
  ]
}