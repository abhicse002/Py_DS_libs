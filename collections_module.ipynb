{
  "nbformat": 4,
  "nbformat_minor": 0,
  "metadata": {
    "colab": {
      "provenance": [],
      "authorship_tag": "ABX9TyNpVTj9mnG3h8p7JBqGnsui",
      "include_colab_link": true
    },
    "kernelspec": {
      "name": "python3",
      "display_name": "Python 3"
    },
    "language_info": {
      "name": "python"
    }
  },
  "cells": [
    {
      "cell_type": "markdown",
      "metadata": {
        "id": "view-in-github",
        "colab_type": "text"
      },
      "source": [
        "<a href=\"https://colab.research.google.com/github/abhicse002/Py_DS_libs/blob/main/collections_module.ipynb\" target=\"_parent\"><img src=\"https://colab.research.google.com/assets/colab-badge.svg\" alt=\"Open In Colab\"/></a>"
      ]
    },
    {
      "cell_type": "code",
      "execution_count": 3,
      "metadata": {
        "id": "KYO03YnGSzDq"
      },
      "outputs": [],
      "source": [
        "from collections import *"
      ]
    },
    {
      "cell_type": "markdown",
      "source": [
        "DEQUE (Double Ended Queue)"
      ],
      "metadata": {
        "id": "GIfjVFmPx1mI"
      }
    },
    {
      "cell_type": "code",
      "source": [
        "# Allows add and remove elements from both ends\n",
        "d = deque([1, 2, 3])\n",
        "print(type(d))\n",
        "\n",
        "# Adding elements to deque\n",
        "d.append(4)        # deque([1, 2, 3, 4]) # adds from right, end side\n",
        "d.appendleft(0)    # deque([0, 1, 2, 3, 4]) # adds from left, beginning\n",
        "print(d)\n"
      ],
      "metadata": {
        "id": "pRzSxXI-S3bJ",
        "colab": {
          "base_uri": "https://localhost:8080/"
        },
        "outputId": "b8520918-0511-4eff-b602-510a75b28daa"
      },
      "execution_count": 19,
      "outputs": [
        {
          "output_type": "stream",
          "name": "stdout",
          "text": [
            "<class 'collections.deque'>\n",
            "deque([0, 1, 2, 3, 4])\n"
          ]
        }
      ]
    },
    {
      "cell_type": "code",
      "source": [
        "# Remove elements\n",
        "print(d.pop())\n",
        "print(d.popleft())\n",
        "\n",
        "print(d)\n"
      ],
      "metadata": {
        "colab": {
          "base_uri": "https://localhost:8080/"
        },
        "id": "dR7VYj0-xzWy",
        "outputId": "d444fbfa-3489-4717-9730-596f47cffdb2"
      },
      "execution_count": 20,
      "outputs": [
        {
          "output_type": "stream",
          "name": "stdout",
          "text": [
            "4\n",
            "0\n",
            "deque([1, 2, 3])\n"
          ]
        }
      ]
    },
    {
      "cell_type": "code",
      "source": [
        "# Rotate\n",
        "d.rotate(1)\n",
        "print(d)\n",
        "d.rotate(-1)\n",
        "print(d)\n",
        "\n",
        "d.rotate(2)\n",
        "print(d)\n",
        "d.rotate(-2)\n",
        "print(d)\n",
        "\n",
        "d.rotate(3)\n",
        "print(d)\n",
        "d.rotate(-3)\n",
        "print(d)\n",
        "\n"
      ],
      "metadata": {
        "colab": {
          "base_uri": "https://localhost:8080/"
        },
        "id": "oiD_TWbp0pFd",
        "outputId": "513c55a2-1c14-40ab-90ec-927dff9dc0a8"
      },
      "execution_count": 37,
      "outputs": [
        {
          "output_type": "stream",
          "name": "stdout",
          "text": [
            "deque([3, 1, 2])\n",
            "deque([1, 2, 3])\n",
            "deque([2, 3, 1])\n",
            "deque([1, 2, 3])\n",
            "deque([1, 2, 3])\n",
            "deque([1, 2, 3])\n"
          ]
        }
      ]
    },
    {
      "cell_type": "code",
      "source": [
        "\n",
        "d.remove(2)      # deque([1, 3])\n",
        "\n",
        "# Clear the deque\n",
        "d.clear()        # deque([])"
      ],
      "metadata": {
        "id": "r-_sPJq40qpO"
      },
      "execution_count": null,
      "outputs": []
    }
  ]
}